{
  "nbformat": 4,
  "nbformat_minor": 0,
  "metadata": {
    "colab": {
      "provenance": [],
      "authorship_tag": "ABX9TyPS4vi3Gbqylxc9ZddsR0CL",
      "include_colab_link": true
    },
    "kernelspec": {
      "name": "python3",
      "display_name": "Python 3"
    },
    "language_info": {
      "name": "python"
    }
  },
  "cells": [
    {
      "cell_type": "markdown",
      "metadata": {
        "id": "view-in-github",
        "colab_type": "text"
      },
      "source": [
        "<a href=\"https://colab.research.google.com/github/reddyjai30/jcv/blob/main/CB.EN.U4CSE20027_Jury-FoDS.ipynb\" target=\"_parent\"><img src=\"https://colab.research.google.com/assets/colab-badge.svg\" alt=\"Open In Colab\"/></a>"
      ]
    },
    {
      "cell_type": "code",
      "execution_count": 1,
      "metadata": {
        "id": "pbU_iEDLL5V-"
      },
      "outputs": [],
      "source": [
        "from datascience import *\n",
        "%matplotlib inline\n",
        "import matplotlib.pyplot as plots\n",
        "plots.style.use('fivethirtyeight')\n",
        "import numpy as np"
      ]
    },
    {
      "cell_type": "code",
      "source": [
        "#we have to sample from a distribution: For this, we use the function proportions_from_distribution\n",
        "def proportions_from_distribution(table, label, sample_size):\n",
        "    proportions = np.random.multinomial(sample_size, table.column(label))/sample_size\n",
        "    return table.with_column('Random Sample', proportions)"
      ],
      "metadata": {
        "id": "Na_gpeHrMBJE"
      },
      "execution_count": 2,
      "outputs": []
    },
    {
      "cell_type": "code",
      "source": [
        "#Data are tabulated in a \"jury\" table below\n",
        "\n",
        "jury = Table().with_columns(\n",
        "    'Ethnicity', make_array('Asian', 'Black', 'Latino', 'White', 'Other'),\n",
        "    'Eligible', make_array(0.15, 0.18, 0.12, 0.54, 0.01),\n",
        "    'Panels', make_array(0.26, 0.08, 0.08, 0.54, 0.04)\n",
        ")\n",
        "\n",
        "jury"
      ],
      "metadata": {
        "colab": {
          "base_uri": "https://localhost:8080/",
          "height": 206
        },
        "id": "S8Xvus41MN-H",
        "outputId": "775b2561-ca97-43f0-9245-cdb431641b2b"
      },
      "execution_count": 7,
      "outputs": [
        {
          "output_type": "execute_result",
          "data": {
            "text/plain": [
              "Ethnicity | Eligible | Panels\n",
              "Asian     | 0.15     | 0.26\n",
              "Black     | 0.18     | 0.08\n",
              "Latino    | 0.12     | 0.08\n",
              "White     | 0.54     | 0.54\n",
              "Other     | 0.01     | 0.04"
            ],
            "text/html": [
              "<table border=\"1\" class=\"dataframe\">\n",
              "    <thead>\n",
              "        <tr>\n",
              "            <th>Ethnicity</th> <th>Eligible</th> <th>Panels</th>\n",
              "        </tr>\n",
              "    </thead>\n",
              "    <tbody>\n",
              "        <tr>\n",
              "            <td>Asian    </td> <td>0.15    </td> <td>0.26  </td>\n",
              "        </tr>\n",
              "        <tr>\n",
              "            <td>Black    </td> <td>0.18    </td> <td>0.08  </td>\n",
              "        </tr>\n",
              "        <tr>\n",
              "            <td>Latino   </td> <td>0.12    </td> <td>0.08  </td>\n",
              "        </tr>\n",
              "        <tr>\n",
              "            <td>White    </td> <td>0.54    </td> <td>0.54  </td>\n",
              "        </tr>\n",
              "        <tr>\n",
              "            <td>Other    </td> <td>0.01    </td> <td>0.04  </td>\n",
              "        </tr>\n",
              "    </tbody>\n",
              "</table>"
            ]
          },
          "metadata": {},
          "execution_count": 7
        }
      ]
    },
    {
      "cell_type": "code",
      "source": [
        "#visualizing overrepresented and some are underrepresented on the jury panels\n",
        "jury.barh('Ethnicity')"
      ],
      "metadata": {
        "colab": {
          "base_uri": "https://localhost:8080/",
          "height": 282
        },
        "id": "ePRYlSc5MWIK",
        "outputId": "0666010f-a7bb-4d05-ce08-5789942fd36b"
      },
      "execution_count": 8,
      "outputs": [
        {
          "output_type": "display_data",
          "data": {
            "text/plain": [
              "<Figure size 432x288 with 1 Axes>"
            ],
            "image/png": "[encoded data removed]"
          },
          "metadata": {}
        }
      ]
    },
    {
      "cell_type": "code",
      "source": [
        "#The total size of all the panels was 1453, so let's \n",
        "panel_size = 1453"
      ],
      "metadata": {
        "id": "17mNTariM1ul"
      },
      "execution_count": 9,
      "outputs": []
    },
    {
      "cell_type": "code",
      "source": [
        "#assign that number to a name and then call \"proportions_from_distribution\"\n",
        "panels_and_sample = proportions_from_distribution(jury, 'Eligible', panel_size)\n",
        "panels_and_sample"
      ],
      "metadata": {
        "colab": {
          "base_uri": "https://localhost:8080/",
          "height": 206
        },
        "id": "dQ0E_Lq7M6yc",
        "outputId": "0a5b036a-a5bd-4176-e81b-e85c59fa564e"
      },
      "execution_count": 10,
      "outputs": [
        {
          "output_type": "execute_result",
          "data": {
            "text/plain": [
              "Ethnicity | Eligible | Panels | Random Sample\n",
              "Asian     | 0.15     | 0.26   | 0.149346\n",
              "Black     | 0.18     | 0.08   | 0.195458\n",
              "Latino    | 0.12     | 0.08   | 0.129387\n",
              "White     | 0.54     | 0.54   | 0.512044\n",
              "Other     | 0.01     | 0.04   | 0.0137646"
            ],
            "text/html": [
              "<table border=\"1\" class=\"dataframe\">\n",
              "    <thead>\n",
              "        <tr>\n",
              "            <th>Ethnicity</th> <th>Eligible</th> <th>Panels</th> <th>Random Sample</th>\n",
              "        </tr>\n",
              "    </thead>\n",
              "    <tbody>\n",
              "        <tr>\n",
              "            <td>Asian    </td> <td>0.15    </td> <td>0.26  </td> <td>0.149346     </td>\n",
              "        </tr>\n",
              "        <tr>\n",
              "            <td>Black    </td> <td>0.18    </td> <td>0.08  </td> <td>0.195458     </td>\n",
              "        </tr>\n",
              "        <tr>\n",
              "            <td>Latino   </td> <td>0.12    </td> <td>0.08  </td> <td>0.129387     </td>\n",
              "        </tr>\n",
              "        <tr>\n",
              "            <td>White    </td> <td>0.54    </td> <td>0.54  </td> <td>0.512044     </td>\n",
              "        </tr>\n",
              "        <tr>\n",
              "            <td>Other    </td> <td>0.01    </td> <td>0.04  </td> <td>0.0137646    </td>\n",
              "        </tr>\n",
              "    </tbody>\n",
              "</table>"
            ]
          },
          "metadata": {},
          "execution_count": 10
        }
      ]
    },
    {
      "cell_type": "code",
      "source": [
        "#The grey bars are a lot closer in size to the blue bars than the gold bars are. The random sample \n",
        "#resembles the eligible population, but the panels don't.\n",
        "panels_and_sample.barh('Ethnicity')"
      ],
      "metadata": {
        "colab": {
          "base_uri": "https://localhost:8080/",
          "height": 282
        },
        "id": "CWeCmY8bM8s9",
        "outputId": "835e2706-1a31-4e8f-8bee-a0074e73a2b8"
      },
      "execution_count": 11,
      "outputs": [
        {
          "output_type": "display_data",
          "data": {
            "text/plain": [
              "<Figure size 432x288 with 1 Axes>"
            ],
            "image/png": "[encoded data removed]"
          },
          "metadata": {}
        }
      ]
    },
    {
      "cell_type": "code",
      "source": [
        "#To measure the difference between the two distributions, \n",
        "#we will compute a quantity called the total variation distance between them.\n",
        "#Alter the table with a column of differences between proportions\n",
        "\n",
        "jury_with_diffs = jury.with_column('Difference', jury.column('Panels') - jury.column('Eligible'))\n",
        "jury_with_diffs"
      ],
      "metadata": {
        "colab": {
          "base_uri": "https://localhost:8080/",
          "height": 206
        },
        "id": "vR3euA_fNAYL",
        "outputId": "0a3dd919-1107-434d-ed93-91936a1e727b"
      },
      "execution_count": 12,
      "outputs": [
        {
          "output_type": "execute_result",
          "data": {
            "text/plain": [
              "Ethnicity | Eligible | Panels | Difference\n",
              "Asian     | 0.15     | 0.26   | 0.11\n",
              "Black     | 0.18     | 0.08   | -0.1\n",
              "Latino    | 0.12     | 0.08   | -0.04\n",
              "White     | 0.54     | 0.54   | 0\n",
              "Other     | 0.01     | 0.04   | 0.03"
            ],
            "text/html": [
              "<table border=\"1\" class=\"dataframe\">\n",
              "    <thead>\n",
              "        <tr>\n",
              "            <th>Ethnicity</th> <th>Eligible</th> <th>Panels</th> <th>Difference</th>\n",
              "        </tr>\n",
              "    </thead>\n",
              "    <tbody>\n",
              "        <tr>\n",
              "            <td>Asian    </td> <td>0.15    </td> <td>0.26  </td> <td>0.11      </td>\n",
              "        </tr>\n",
              "        <tr>\n",
              "            <td>Black    </td> <td>0.18    </td> <td>0.08  </td> <td>-0.1      </td>\n",
              "        </tr>\n",
              "        <tr>\n",
              "            <td>Latino   </td> <td>0.12    </td> <td>0.08  </td> <td>-0.04     </td>\n",
              "        </tr>\n",
              "        <tr>\n",
              "            <td>White    </td> <td>0.54    </td> <td>0.54  </td> <td>0         </td>\n",
              "        </tr>\n",
              "        <tr>\n",
              "            <td>Other    </td> <td>0.01    </td> <td>0.04  </td> <td>0.03      </td>\n",
              "        </tr>\n",
              "    </tbody>\n",
              "</table>"
            ]
          },
          "metadata": {},
          "execution_count": 12
        }
      ]
    },
    {
      "cell_type": "code",
      "source": [
        "#Difference and notice that the sum of its entries is 0: \n",
        "#the positive entries add up to 0.14, exactly canceling the \n",
        "#total of the negative entries which is -0.14.\n",
        "#To avoid the cancellation, we drop \n",
        "#the negative signs and then add all the entries.So we divide the sum by 2.\n",
        "\n",
        "jury_with_diffs = jury_with_diffs.with_column('Abs. Difference', np.abs(jury_with_diffs.column('Difference')))\n",
        "jury_with_diffs"
      ],
      "metadata": {
        "colab": {
          "base_uri": "https://localhost:8080/",
          "height": 206
        },
        "id": "3L9hrJOGOT-s",
        "outputId": "57357b52-3275-4351-a319-2f1dea43b90b"
      },
      "execution_count": 13,
      "outputs": [
        {
          "output_type": "execute_result",
          "data": {
            "text/plain": [
              "Ethnicity | Eligible | Panels | Difference | Abs. Difference\n",
              "Asian     | 0.15     | 0.26   | 0.11       | 0.11\n",
              "Black     | 0.18     | 0.08   | -0.1       | 0.1\n",
              "Latino    | 0.12     | 0.08   | -0.04      | 0.04\n",
              "White     | 0.54     | 0.54   | 0          | 0\n",
              "Other     | 0.01     | 0.04   | 0.03       | 0.03"
            ],
            "text/html": [
              "<table border=\"1\" class=\"dataframe\">\n",
              "    <thead>\n",
              "        <tr>\n",
              "            <th>Ethnicity</th> <th>Eligible</th> <th>Panels</th> <th>Difference</th> <th>Abs. Difference</th>\n",
              "        </tr>\n",
              "    </thead>\n",
              "    <tbody>\n",
              "        <tr>\n",
              "            <td>Asian    </td> <td>0.15    </td> <td>0.26  </td> <td>0.11      </td> <td>0.11           </td>\n",
              "        </tr>\n",
              "        <tr>\n",
              "            <td>Black    </td> <td>0.18    </td> <td>0.08  </td> <td>-0.1      </td> <td>0.1            </td>\n",
              "        </tr>\n",
              "        <tr>\n",
              "            <td>Latino   </td> <td>0.12    </td> <td>0.08  </td> <td>-0.04     </td> <td>0.04           </td>\n",
              "        </tr>\n",
              "        <tr>\n",
              "            <td>White    </td> <td>0.54    </td> <td>0.54  </td> <td>0         </td> <td>0              </td>\n",
              "        </tr>\n",
              "        <tr>\n",
              "            <td>Other    </td> <td>0.01    </td> <td>0.04  </td> <td>0.03      </td> <td>0.03           </td>\n",
              "        </tr>\n",
              "    </tbody>\n",
              "</table>"
            ]
          },
          "metadata": {},
          "execution_count": 13
        }
      ]
    },
    {
      "cell_type": "code",
      "source": [
        "#This quantity 0.14 is the total variation distance (TVD) between the distribution of ethnicities\n",
        "jury_with_diffs.column('Abs. Difference').sum()/2"
      ],
      "metadata": {
        "colab": {
          "base_uri": "https://localhost:8080/"
        },
        "id": "PWJGxbwuOu2k",
        "outputId": "9cc3ecf8-967e-4700-8c39-7d24f97f867f"
      },
      "execution_count": 14,
      "outputs": [
        {
          "output_type": "execute_result",
          "data": {
            "text/plain": [
              "0.14000000000000001"
            ]
          },
          "metadata": {},
          "execution_count": 14
        }
      ]
    },
    {
      "cell_type": "code",
      "source": [
        "#Functions for Computing Total Variation Distance\n",
        "\n",
        "def total_variation_distance(distribution_1, distribution_2):\n",
        "    return np.abs(distribution_1 - distribution_2).sum()/2"
      ],
      "metadata": {
        "id": "92I0T8CrO9-X"
      },
      "execution_count": 15,
      "outputs": []
    },
    {
      "cell_type": "code",
      "source": [
        "def table_tvd(table, label, other):\n",
        "    return total_variation_distance(table.column(label), table.column(other))\n",
        "\n",
        "table_tvd(jury, 'Eligible', 'Panels')"
      ],
      "metadata": {
        "colab": {
          "base_uri": "https://localhost:8080/"
        },
        "id": "WpvRgLzrPKp0",
        "outputId": "7b0a3868-5b10-4a4f-e10c-143d2c75ce11"
      },
      "execution_count": 16,
      "outputs": [
        {
          "output_type": "execute_result",
          "data": {
            "text/plain": [
              "0.14000000000000001"
            ]
          },
          "metadata": {},
          "execution_count": 16
        }
      ]
    },
    {
      "cell_type": "code",
      "source": [
        "#Distance between the distribution of the eligible population and the random sample.\n",
        "table_tvd(panels_and_sample, 'Eligible', 'Random Sample')"
      ],
      "metadata": {
        "colab": {
          "base_uri": "https://localhost:8080/"
        },
        "id": "d9nSCzKTPNrs",
        "outputId": "8c8ebb4d-9b83-46a4-f170-855156354413"
      },
      "execution_count": 17,
      "outputs": [
        {
          "output_type": "execute_result",
          "data": {
            "text/plain": [
              "0.02860977288368895"
            ]
          },
          "metadata": {},
          "execution_count": 17
        }
      ]
    },
    {
      "cell_type": "code",
      "source": [
        "#How Much Do Random Samples Differ from the Population?\n",
        "# Compute empirical distribution of TVDs\n",
        "\n",
        "panel_size = 1453\n",
        "repetitions = 5000\n",
        "\n",
        "tvds = make_array()\n",
        "\n",
        "for i in np.arange(repetitions):\n",
        "    \n",
        "    new_sample = proportions_from_distribution(jury, 'Eligible', panel_size)\n",
        "    tvds = np.append(tvds, table_tvd(new_sample, 'Eligible', 'Random Sample'))\n",
        "\n",
        "results = Table().with_column('TVD', tvds)\n",
        "results"
      ],
      "metadata": {
        "colab": {
          "base_uri": "https://localhost:8080/",
          "height": 392
        },
        "id": "wHuCNw9hPghT",
        "outputId": "675c8d69-0723-47d9-e9be-c3ff293f15a3"
      },
      "execution_count": 18,
      "outputs": [
        {
          "output_type": "execute_result",
          "data": {
            "text/plain": [
              "TVD\n",
              "0.00968341\n",
              "0.0175224\n",
              "0.03649\n",
              "0.0113489\n",
              "0.0155127\n",
              "0.0116242\n",
              "0.0256779\n",
              "0.0202202\n",
              "0.0110255\n",
              "0.00942189\n",
              "... (4990 rows omitted)"
            ],
            "text/html": [
              "<table border=\"1\" class=\"dataframe\">\n",
              "    <thead>\n",
              "        <tr>\n",
              "            <th>TVD</th>\n",
              "        </tr>\n",
              "    </thead>\n",
              "    <tbody>\n",
              "        <tr>\n",
              "            <td>0.00968341</td>\n",
              "        </tr>\n",
              "        <tr>\n",
              "            <td>0.0175224 </td>\n",
              "        </tr>\n",
              "        <tr>\n",
              "            <td>0.03649   </td>\n",
              "        </tr>\n",
              "        <tr>\n",
              "            <td>0.0113489 </td>\n",
              "        </tr>\n",
              "        <tr>\n",
              "            <td>0.0155127 </td>\n",
              "        </tr>\n",
              "        <tr>\n",
              "            <td>0.0116242 </td>\n",
              "        </tr>\n",
              "        <tr>\n",
              "            <td>0.0256779 </td>\n",
              "        </tr>\n",
              "        <tr>\n",
              "            <td>0.0202202 </td>\n",
              "        </tr>\n",
              "        <tr>\n",
              "            <td>0.0110255 </td>\n",
              "        </tr>\n",
              "        <tr>\n",
              "            <td>0.00942189</td>\n",
              "        </tr>\n",
              "    </tbody>\n",
              "</table>\n",
              "<p>... (4990 rows omitted)</p>"
            ]
          },
          "metadata": {},
          "execution_count": 18
        }
      ]
    },
    {
      "cell_type": "code",
      "source": [
        "#The histogram of this column shows that drawing 1453 jurors at random from \n",
        "#the pool of eligible candidates results in a distribution that rarely deviates \n",
        "#from the eligible jurors' race distribution by more than 0.05.\n",
        "\n",
        "#Observations: Simulations\n",
        "results.hist(bins=np.arange(0, 0.2, 0.005))"
      ],
      "metadata": {
        "colab": {
          "base_uri": "https://localhost:8080/",
          "height": 301
        },
        "id": "Kslg3HJbPpOF",
        "outputId": "ecb18aea-2990-472c-a2ea-03a89a450d32"
      },
      "execution_count": 19,
      "outputs": [
        {
          "output_type": "display_data",
          "data": {
            "text/plain": [
              "<Figure size 432x288 with 1 Axes>"
            ],
            "image/png": "[encoded data removed]"
          },
          "metadata": {}
        }
      ]
    },
    {
      "cell_type": "code",
      "source": [
        "results.hist(bins=np.arange(0, 0.14, 0.005))"
      ],
      "metadata": {
        "colab": {
          "base_uri": "https://localhost:8080/",
          "height": 301
        },
        "id": "NL41XgbVMiP_",
        "outputId": "e1507cff-51ec-4f35-c1af-2eb033a0de84"
      },
      "execution_count": 32,
      "outputs": [
        {
          "output_type": "display_data",
          "data": {
            "text/plain": [
              "<Figure size 432x288 with 1 Axes>"
            ],
            "image/png": "[encoded data removed]"
          },
          "metadata": {}
        }
      ]
    }
  ]
}